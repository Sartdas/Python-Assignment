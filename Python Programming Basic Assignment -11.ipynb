{
 "cells": [
  {
   "cell_type": "markdown",
   "metadata": {},
   "source": [
    "# Python Programming Basic Assignment -11"
   ]
  },
  {
   "cell_type": "markdown",
   "metadata": {},
   "source": [
    "#### Write a Python program to find words which are greater than given length k?"
   ]
  },
  {
   "cell_type": "code",
   "execution_count": 3,
   "metadata": {},
   "outputs": [
    {
     "name": "stdout",
     "output_type": "stream",
     "text": [
      "Enter a paragraph:Earth is the third planet from the Sun and the only astronomical object known to harbor life. It is the densest planet in the Solar System and the largest and most massive of the four rocky planets. About 29% of Earth's surface is land, with the remaining 71% covered with water and much of Earth's polar regions covered in ice. Earth's interior is active with a solid iron inner core, a liquid outer core that generates Earth's magnetic field, and a convective mantle that drives plate tectonics. Earth formed over 4.5 billion years ago. Within the first billion years of Earth's history, life appeared in the oceans and began to affect Earth's atmosphere and surface. Since then, the combination of Earth's distance from the Sun, physical properties and geological history have allowed life to evolve and thrive. Almost 8 billion humans live on Earth and depend on its biosphere and natural resources for their survival, but increasingly impact Earth's surface, atmosphere and other life. (This article is part of a featured topic: Solar System.)\n",
      "Enter minimum length of words you are looking for:4\n",
      "The words you are looking for are: Earth\n",
      "The words you are looking for are: third\n",
      "The words you are looking for are: planet\n",
      "The words you are looking for are: astronomical\n",
      "The words you are looking for are: object\n",
      "The words you are looking for are: known\n",
      "The words you are looking for are: harbor\n",
      "The words you are looking for are: life.\n",
      "The words you are looking for are: densest\n",
      "The words you are looking for are: planet\n",
      "The words you are looking for are: Solar\n",
      "The words you are looking for are: System\n",
      "The words you are looking for are: largest\n",
      "The words you are looking for are: massive\n",
      "The words you are looking for are: rocky\n",
      "The words you are looking for are: planets.\n",
      "The words you are looking for are: About\n",
      "The words you are looking for are: Earth's\n",
      "The words you are looking for are: surface\n",
      "The words you are looking for are: land,\n",
      "The words you are looking for are: remaining\n",
      "The words you are looking for are: covered\n",
      "The words you are looking for are: water\n",
      "The words you are looking for are: Earth's\n",
      "The words you are looking for are: polar\n",
      "The words you are looking for are: regions\n",
      "The words you are looking for are: covered\n",
      "The words you are looking for are: Earth's\n",
      "The words you are looking for are: interior\n",
      "The words you are looking for are: active\n",
      "The words you are looking for are: solid\n",
      "The words you are looking for are: inner\n",
      "The words you are looking for are: core,\n",
      "The words you are looking for are: liquid\n",
      "The words you are looking for are: outer\n",
      "The words you are looking for are: generates\n",
      "The words you are looking for are: Earth's\n",
      "The words you are looking for are: magnetic\n",
      "The words you are looking for are: field,\n",
      "The words you are looking for are: convective\n",
      "The words you are looking for are: mantle\n",
      "The words you are looking for are: drives\n",
      "The words you are looking for are: plate\n",
      "The words you are looking for are: tectonics.\n",
      "The words you are looking for are: Earth\n",
      "The words you are looking for are: formed\n",
      "The words you are looking for are: billion\n",
      "The words you are looking for are: years\n",
      "The words you are looking for are: Within\n",
      "The words you are looking for are: first\n",
      "The words you are looking for are: billion\n",
      "The words you are looking for are: years\n",
      "The words you are looking for are: Earth's\n",
      "The words you are looking for are: history,\n",
      "The words you are looking for are: appeared\n",
      "The words you are looking for are: oceans\n",
      "The words you are looking for are: began\n",
      "The words you are looking for are: affect\n",
      "The words you are looking for are: Earth's\n",
      "The words you are looking for are: atmosphere\n",
      "The words you are looking for are: surface.\n",
      "The words you are looking for are: Since\n",
      "The words you are looking for are: then,\n",
      "The words you are looking for are: combination\n",
      "The words you are looking for are: Earth's\n",
      "The words you are looking for are: distance\n",
      "The words you are looking for are: physical\n",
      "The words you are looking for are: properties\n",
      "The words you are looking for are: geological\n",
      "The words you are looking for are: history\n",
      "The words you are looking for are: allowed\n",
      "The words you are looking for are: evolve\n",
      "The words you are looking for are: thrive.\n",
      "The words you are looking for are: Almost\n",
      "The words you are looking for are: billion\n",
      "The words you are looking for are: humans\n",
      "The words you are looking for are: Earth\n",
      "The words you are looking for are: depend\n",
      "The words you are looking for are: biosphere\n",
      "The words you are looking for are: natural\n",
      "The words you are looking for are: resources\n",
      "The words you are looking for are: their\n",
      "The words you are looking for are: survival,\n",
      "The words you are looking for are: increasingly\n",
      "The words you are looking for are: impact\n",
      "The words you are looking for are: Earth's\n",
      "The words you are looking for are: surface,\n",
      "The words you are looking for are: atmosphere\n",
      "The words you are looking for are: other\n",
      "The words you are looking for are: life.\n",
      "The words you are looking for are: (This\n",
      "The words you are looking for are: article\n",
      "The words you are looking for are: featured\n",
      "The words you are looking for are: topic:\n",
      "The words you are looking for are: Solar\n",
      "The words you are looking for are: System.)\n"
     ]
    }
   ],
   "source": [
    "para = input(\"Enter a paragraph:\")\n",
    "length =int(input(\"Enter minimum length of words you are looking for:\"))\n",
    "\n",
    "\n",
    "list1 =para.split()\n",
    "for i in list1:\n",
    "    if len(i) > length:\n",
    "        print (\"The words you are looking for are:\",i)"
   ]
  },
  {
   "cell_type": "markdown",
   "metadata": {},
   "source": [
    "#### 2.\tWrite a Python program for removing i-th character from a string?"
   ]
  },
  {
   "cell_type": "code",
   "execution_count": 7,
   "metadata": {},
   "outputs": [
    {
     "name": "stdout",
     "output_type": "stream",
     "text": [
      "enter a string:Earth is the third planet\n",
      "enter the position you are looking for:5\n",
      "the 5th character is h\n"
     ]
    }
   ],
   "source": [
    "string =input(\"enter a string:\")\n",
    "i =int(input(\"enter the position you are looking for:\"))\n",
    "print(\"the {}th character is {}\".format(i,string[i-1]))"
   ]
  },
  {
   "cell_type": "markdown",
   "metadata": {},
   "source": [
    "#### 3.\tWrite a Python program to split and join a string?"
   ]
  },
  {
   "cell_type": "code",
   "execution_count": 14,
   "metadata": {},
   "outputs": [
    {
     "name": "stdout",
     "output_type": "stream",
     "text": [
      "Enter a paragraph:Earth is the third planet\n",
      "25\n",
      " Earth is the third planet\n",
      "25\n"
     ]
    }
   ],
   "source": [
    "para = input(\"Enter a paragraph:\")\n",
    "print(len(para))\n",
    "##splitting of the string\n",
    "list1 =para.split()\n",
    "concat_string = ''\n",
    "### joining the string back\n",
    "for i in list1:\n",
    "    concat_string += ' ' + i\n",
    "print(concat_string)\n",
    "print(len(concat_string.lstrip()))"
   ]
  },
  {
   "cell_type": "markdown",
   "metadata": {},
   "source": [
    "#### 4.\tWrite a Python to check if a given string is binary string or not?"
   ]
  },
  {
   "cell_type": "code",
   "execution_count": 29,
   "metadata": {},
   "outputs": [
    {
     "name": "stdout",
     "output_type": "stream",
     "text": [
      "enter a string:Earth01 is the third 1011 planet 0110001 from the 00111 sun\n",
      "The word 1011 is a binary string\n",
      "The word 0110001 is a binary string\n",
      "The word 00111 is a binary string\n"
     ]
    }
   ],
   "source": [
    "string =input(\"enter a string:\")\n",
    "list1 =string.split()\n",
    "for words in list1:\n",
    "    binary = True\n",
    "    for j in range(len(words)):\n",
    "        if words[j] == \"1\" or words[j]== \"0\":\n",
    "            pass\n",
    "        else:\n",
    "            binary = False\n",
    "            break\n",
    "    if binary == True:\n",
    "        print (\"The word {} is a binary string\".format(words))"
   ]
  },
  {
   "cell_type": "markdown",
   "metadata": {},
   "source": [
    "#### 5.\tWrite a Python program to find uncommon words from two Strings?"
   ]
  },
  {
   "cell_type": "code",
   "execution_count": 32,
   "metadata": {},
   "outputs": [
    {
     "name": "stdout",
     "output_type": "stream",
     "text": [
      "Enter first string to compare:Write a Python program to find words which are greater than given length k\n",
      "Enter 2nd string to compare2.\tWrite a Python program for removing i-th character from a string\n",
      "to\n",
      "find\n",
      "words\n",
      "which\n",
      "are\n",
      "greater\n",
      "than\n",
      "given\n",
      "length\n",
      "k\n",
      "2.\n",
      "for\n",
      "removing\n",
      "i-th\n",
      "character\n",
      "from\n",
      "string\n"
     ]
    }
   ],
   "source": [
    "string1 = input(\"Enter first string to compare:\")\n",
    "string2 = input(\"Enter 2nd string to compare\")\n",
    "\n",
    "list1 = string1.split()\n",
    "list2 = string2.split()\n",
    "\n",
    "for i in list1:\n",
    "    if i not in list2:\n",
    "        print(i)\n",
    "\n",
    "for j in list2:\n",
    "    if j not in list1:\n",
    "        print(j)"
   ]
  },
  {
   "cell_type": "markdown",
   "metadata": {},
   "source": [
    "#### 6.\tWrite a Python to find all duplicate characters in string?"
   ]
  },
  {
   "cell_type": "code",
   "execution_count": 37,
   "metadata": {},
   "outputs": [
    {
     "name": "stdout",
     "output_type": "stream",
     "text": [
      "enter a string:Write a Python program to find\n",
      "r is a duplicate character\n",
      "i is a duplicate character\n",
      "t is a duplicate character\n",
      "  is a duplicate character\n",
      "a is a duplicate character\n",
      "o is a duplicate character\n",
      "n is a duplicate character\n"
     ]
    }
   ],
   "source": [
    "string = input(\"enter a string:\")\n",
    "\n",
    "repeat_chk = []\n",
    "list1 = list(string)\n",
    "for i in list1:\n",
    "    if list1.count(i) > 1 and i not in repeat_chk:\n",
    "        print (\"{} is a duplicate character\".format(i))\n",
    "        repeat_chk.append(i)"
   ]
  },
  {
   "cell_type": "markdown",
   "metadata": {},
   "source": [
    "#### 7.\tWrite a Python Program to check if a string contains any special character?"
   ]
  },
  {
   "cell_type": "code",
   "execution_count": 45,
   "metadata": {},
   "outputs": [
    {
     "name": "stdout",
     "output_type": "stream",
     "text": [
      "enter a string:string = input(\"enter a string:\")\n",
      "=\n",
      "(\n",
      "\"\n",
      ":\n",
      "\"\n",
      ")\n"
     ]
    }
   ],
   "source": [
    "string = input(\"enter a string:\")\n",
    "\n",
    "for i in string:\n",
    "    \n",
    "    if (i.isalpha() != True) and (i.isnumeric() != True) and (i.isspace() != True):\n",
    "        print (i)"
   ]
  },
  {
   "cell_type": "code",
   "execution_count": null,
   "metadata": {},
   "outputs": [],
   "source": []
  }
 ],
 "metadata": {
  "kernelspec": {
   "display_name": "Python 3",
   "language": "python",
   "name": "python3"
  },
  "language_info": {
   "codemirror_mode": {
    "name": "ipython",
    "version": 3
   },
   "file_extension": ".py",
   "mimetype": "text/x-python",
   "name": "python",
   "nbconvert_exporter": "python",
   "pygments_lexer": "ipython3",
   "version": "3.8.3"
  }
 },
 "nbformat": 4,
 "nbformat_minor": 4
}
