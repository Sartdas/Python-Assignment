{
 "cells": [
  {
   "cell_type": "markdown",
   "metadata": {},
   "source": [
    "# Python Programming Basic Assignment -4"
   ]
  },
  {
   "cell_type": "markdown",
   "metadata": {},
   "source": [
    "#### 1.\tWrite a Python Program to Find the Factorial of a Number?"
   ]
  },
  {
   "cell_type": "code",
   "execution_count": 3,
   "metadata": {},
   "outputs": [
    {
     "name": "stdout",
     "output_type": "stream",
     "text": [
      "Enter the number:11\n",
      "Factorial of the number 11 is 39916800\n"
     ]
    }
   ],
   "source": [
    "### n! = n*(n-1)*(n-2)....* 1\n",
    "\n",
    "number = int(input(\"Enter the number:\"))\n",
    "factorial = 1\n",
    "for i in range (number):\n",
    "    factorial = factorial * (number - i)\n",
    "\n",
    "print(\"Factorial of the number {} is {}\".format(number,factorial))"
   ]
  },
  {
   "cell_type": "markdown",
   "metadata": {},
   "source": [
    "#### 2.\tWrite a Python Program to Display the multiplication Table?"
   ]
  },
  {
   "cell_type": "code",
   "execution_count": 5,
   "metadata": {},
   "outputs": [
    {
     "name": "stdout",
     "output_type": "stream",
     "text": [
      "Enter the number:10\n",
      "10 * 1 = 10\n",
      "10 * 2 = 20\n",
      "10 * 3 = 30\n",
      "10 * 4 = 40\n",
      "10 * 5 = 50\n",
      "10 * 6 = 60\n",
      "10 * 7 = 70\n",
      "10 * 8 = 80\n",
      "10 * 9 = 90\n",
      "10 * 10 = 100\n"
     ]
    }
   ],
   "source": [
    "number = int(input(\"Enter the number:\"))\n",
    "\n",
    "for i in range(1,11):\n",
    "    print (\"{} * {} = {}\".format(number,i,number*i))"
   ]
  },
  {
   "cell_type": "markdown",
   "metadata": {},
   "source": [
    "#### 3.\tWrite a Python Program to Print the Fibonacci sequence?"
   ]
  },
  {
   "cell_type": "code",
   "execution_count": 8,
   "metadata": {},
   "outputs": [
    {
     "name": "stdout",
     "output_type": "stream",
     "text": [
      "enter the range of Fibonacci series:10\n",
      "1\n",
      "1\n",
      "2\n",
      "3\n",
      "5\n",
      "8\n",
      "13\n",
      "21\n",
      "34\n",
      "55\n",
      "89\n",
      "144\n"
     ]
    }
   ],
   "source": [
    "### fibonnaci series = 1,1,2,3,5,8...\n",
    "fib_range = int(input(\"enter the range of Fibonacci series:\"))\n",
    "x =1\n",
    "y =1 \n",
    "print(x)\n",
    "print(y)\n",
    "for i in range (fib_range):\n",
    "    x,y = y , y+x\n",
    "    print (y)\n",
    "    "
   ]
  },
  {
   "cell_type": "markdown",
   "metadata": {},
   "source": [
    "#### 4.\tWrite a Python Program to Check Armstrong Number?"
   ]
  },
  {
   "cell_type": "code",
   "execution_count": 13,
   "metadata": {},
   "outputs": [
    {
     "name": "stdout",
     "output_type": "stream",
     "text": [
      "Enter the number:24\n",
      "24 is not an armstrong number\n"
     ]
    }
   ],
   "source": [
    "### number is armstrong number if the sum of cubes of each digit of the number is equal to the actual number\n",
    "number = int(input(\"Enter the number:\"))\n",
    "\n",
    "#convert the number to string to perform indexing\n",
    "\n",
    "str_num = str(number)\n",
    "cubes_sum = 0\n",
    "for i in range(len(str_num)):\n",
    "    cubes_sum = cubes_sum + int(str_num[i]) ** 3\n",
    "\n",
    "### check the sum of cubes of digits mathcing to the input number or not\n",
    "\n",
    "if cubes_sum == number:\n",
    "    print (\"{} is an armstrong number\".format(number))\n",
    "else:\n",
    "    print (\"{} is not an armstrong number\".format(number))"
   ]
  },
  {
   "cell_type": "markdown",
   "metadata": {},
   "source": [
    "#### 5.\tWrite a Python Program to Find Armstrong Number in an Interval?"
   ]
  },
  {
   "cell_type": "code",
   "execution_count": 15,
   "metadata": {},
   "outputs": [
    {
     "name": "stdout",
     "output_type": "stream",
     "text": [
      "Enter the interval to determine the Armstrong numbers500\n",
      "0 is an armstrong number\n",
      "1 is an armstrong number\n",
      "153 is an armstrong number\n",
      "370 is an armstrong number\n",
      "371 is an armstrong number\n",
      "407 is an armstrong number\n"
     ]
    }
   ],
   "source": [
    "interval = int(input(\"Enter the interval to determine the Armstrong numbers\"))\n",
    "\n",
    "for i in range(interval):\n",
    "    str_num = str(i)\n",
    "    cubes_sum = 0\n",
    "    for j in range(len(str_num)):\n",
    "        cubes_sum = cubes_sum + int(str_num[j])**3\n",
    "    \n",
    "    if cubes_sum == i:\n",
    "        print (\"{} is an armstrong number\".format(i))"
   ]
  },
  {
   "cell_type": "markdown",
   "metadata": {},
   "source": [
    "#### 6.\tWrite a Python Program to Find the Sum of Natural Numbers?"
   ]
  },
  {
   "cell_type": "code",
   "execution_count": 20,
   "metadata": {},
   "outputs": [
    {
     "name": "stdout",
     "output_type": "stream",
     "text": [
      "enter the range for finding the sum of Natural number5\n",
      "Sum of Natural Number is: 15\n"
     ]
    }
   ],
   "source": [
    "natural_number_range = int(input(\"enter the range for finding the sum of Natural number\"))\n",
    "sum_nat_num = 0\n",
    "for i in range(1,natural_number_range + 1):\n",
    "    sum_nat_num = sum_nat_num + i\n",
    "\n",
    "print(\"Sum of Natural Number is:\", sum_nat_num)"
   ]
  }
 ],
 "metadata": {
  "kernelspec": {
   "display_name": "Python 3",
   "language": "python",
   "name": "python3"
  },
  "language_info": {
   "codemirror_mode": {
    "name": "ipython",
    "version": 3
   },
   "file_extension": ".py",
   "mimetype": "text/x-python",
   "name": "python",
   "nbconvert_exporter": "python",
   "pygments_lexer": "ipython3",
   "version": "3.8.3"
  }
 },
 "nbformat": 4,
 "nbformat_minor": 4
}
