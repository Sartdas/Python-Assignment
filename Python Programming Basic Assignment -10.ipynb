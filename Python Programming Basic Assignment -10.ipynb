{
 "cells": [
  {
   "cell_type": "markdown",
   "metadata": {},
   "source": [
    "# Python Programming Basic Assignment -10"
   ]
  },
  {
   "cell_type": "markdown",
   "metadata": {},
   "source": [
    "#### 1.\tWrite a Python program to find sum of elements in list?"
   ]
  },
  {
   "cell_type": "code",
   "execution_count": 1,
   "metadata": {},
   "outputs": [
    {
     "name": "stdout",
     "output_type": "stream",
     "text": [
      "Sum of elements in the list = 16\n"
     ]
    }
   ],
   "source": [
    "list1=[1,2,3,4,'5',6,'7']\n",
    "sum_of_items = 0\n",
    "\n",
    "if type(list1) == list:\n",
    "    for i in list1:\n",
    "        if type(i) == int:\n",
    "            sum_of_items += i\n",
    "    print(\"Sum of elements in the list =\",sum_of_items)"
   ]
  },
  {
   "cell_type": "markdown",
   "metadata": {},
   "source": [
    "#### 2.\tWrite a Python program to  Multiply all numbers in the list?"
   ]
  },
  {
   "cell_type": "code",
   "execution_count": 4,
   "metadata": {},
   "outputs": [
    {
     "name": "stdout",
     "output_type": "stream",
     "text": [
      "Mul of elements in the list = 144\n"
     ]
    }
   ],
   "source": [
    "list1=[1,2,3,4,'5',6,'7']\n",
    "mul_of_items = 1\n",
    "\n",
    "if type(list1) == list:\n",
    "    for i in list1:\n",
    "        if type(i) == int:\n",
    "            mul_of_items *= i\n",
    "    print(\"Mul of elements in the list =\",mul_of_items)"
   ]
  },
  {
   "cell_type": "markdown",
   "metadata": {},
   "source": [
    "#### 3.\tWrite a Python program to find smallest number in a list?"
   ]
  },
  {
   "cell_type": "code",
   "execution_count": 8,
   "metadata": {},
   "outputs": [
    {
     "data": {
      "text/plain": [
       "2"
      ]
     },
     "execution_count": 8,
     "metadata": {},
     "output_type": "execute_result"
    }
   ],
   "source": [
    "list1 = [15,20,100,75,2,97,33]\n",
    "list1.sort()\n",
    "list1[0]"
   ]
  },
  {
   "cell_type": "markdown",
   "metadata": {},
   "source": [
    "#### 4.\tWrite a Python program to find largest number in a list?"
   ]
  },
  {
   "cell_type": "code",
   "execution_count": 9,
   "metadata": {},
   "outputs": [
    {
     "data": {
      "text/plain": [
       "100"
      ]
     },
     "execution_count": 9,
     "metadata": {},
     "output_type": "execute_result"
    }
   ],
   "source": [
    "list1 = [15,20,100,75,2,97,33]\n",
    "list1.sort()\n",
    "list1[-1]"
   ]
  },
  {
   "cell_type": "markdown",
   "metadata": {},
   "source": [
    "#### 5.\tWrite a Python program to find second largest number in a list?"
   ]
  },
  {
   "cell_type": "code",
   "execution_count": 10,
   "metadata": {},
   "outputs": [
    {
     "data": {
      "text/plain": [
       "97"
      ]
     },
     "execution_count": 10,
     "metadata": {},
     "output_type": "execute_result"
    }
   ],
   "source": [
    "list1 = [15,20,100,75,2,97,33]\n",
    "list1.sort()\n",
    "list1[-2]"
   ]
  },
  {
   "cell_type": "markdown",
   "metadata": {},
   "source": [
    "#### 6.\tWrite a Python program to find N largest elements from a list?"
   ]
  },
  {
   "cell_type": "code",
   "execution_count": 14,
   "metadata": {},
   "outputs": [
    {
     "name": "stdout",
     "output_type": "stream",
     "text": [
      "Enter the number N to check Nth largest number in the list 6\n"
     ]
    },
    {
     "data": {
      "text/plain": [
       "75"
      ]
     },
     "execution_count": 14,
     "metadata": {},
     "output_type": "execute_result"
    }
   ],
   "source": [
    "number =int(input(\"Enter the number N to check Nth largest number in the list \"))\n",
    "list1 = [15,20,100,75,2,97,33,12,16,77,46,300,234]\n",
    "list1.sort()\n",
    "list1[-number]"
   ]
  },
  {
   "cell_type": "markdown",
   "metadata": {},
   "source": [
    "#### 7.\tWrite a Python program to print even numbers in a list?"
   ]
  },
  {
   "cell_type": "code",
   "execution_count": 16,
   "metadata": {},
   "outputs": [
    {
     "name": "stdout",
     "output_type": "stream",
     "text": [
      "the number 20 is an even number\n",
      "the number 100 is an even number\n",
      "the number 2 is an even number\n",
      "the number 12 is an even number\n",
      "the number 16 is an even number\n",
      "the number 46 is an even number\n",
      "the number 300 is an even number\n",
      "the number 234 is an even number\n"
     ]
    }
   ],
   "source": [
    "list1 = [15,20,100,75,2,97,33,12,16,77,46,300,234]\n",
    "\n",
    "for i in list1:\n",
    "    if i%2==0:\n",
    "        print(\"the number {} is an even number\".format(i))"
   ]
  },
  {
   "cell_type": "markdown",
   "metadata": {},
   "source": [
    "#### 8.\tWrite a Python program to print odd numbers in a List?"
   ]
  },
  {
   "cell_type": "code",
   "execution_count": 17,
   "metadata": {},
   "outputs": [
    {
     "name": "stdout",
     "output_type": "stream",
     "text": [
      "the number 15 is a odd number\n",
      "the number 75 is a odd number\n",
      "the number 97 is a odd number\n",
      "the number 33 is a odd number\n",
      "the number 77 is a odd number\n"
     ]
    }
   ],
   "source": [
    "list1 = [15,20,100,75,2,97,33,12,16,77,46,300,234]\n",
    "\n",
    "for i in list1:\n",
    "    if i%2!=0:\n",
    "        print(\"the number {} is a odd number\".format(i))"
   ]
  },
  {
   "cell_type": "markdown",
   "metadata": {},
   "source": [
    "#### 9.\tWrite a Python program to Remove empty List from List?"
   ]
  },
  {
   "cell_type": "code",
   "execution_count": 18,
   "metadata": {},
   "outputs": [
    {
     "name": "stdout",
     "output_type": "stream",
     "text": [
      "[1, 2, 4, 'John', [5, 'm', 'p'], 'Wick', True]\n"
     ]
    }
   ],
   "source": [
    "list2 = [1,2,4,\"John\",[5,'m','p'],[],\"Wick\",True,[]]\n",
    "\n",
    "for i in list2:\n",
    "    if type(i) == list and len(i) == 0:\n",
    "        list2.remove(i)\n",
    "\n",
    "print(list2)  "
   ]
  },
  {
   "cell_type": "markdown",
   "metadata": {},
   "source": [
    "#### 10.\tWrite a Python program to Cloning or Copying a list?"
   ]
  },
  {
   "cell_type": "code",
   "execution_count": 24,
   "metadata": {},
   "outputs": [
    {
     "name": "stdout",
     "output_type": "stream",
     "text": [
      "[1, 2, 4, 'John', [5, 'm', 'p'], [], 'Wick', True, []]\n"
     ]
    }
   ],
   "source": [
    "list2 = [1,2,4,\"John\",[5,'m','p'],[],\"Wick\",True,[]]\n",
    "\n",
    "list3 =list2\n",
    "print(list3)"
   ]
  },
  {
   "cell_type": "markdown",
   "metadata": {},
   "source": [
    "#### 11.\tWrite a Python program to Count occurrences of an element in a list?"
   ]
  },
  {
   "cell_type": "code",
   "execution_count": 28,
   "metadata": {},
   "outputs": [
    {
     "data": {
      "text/plain": [
       "3"
      ]
     },
     "execution_count": 28,
     "metadata": {},
     "output_type": "execute_result"
    }
   ],
   "source": [
    "list2 = [1,2,4,\"John\",[5,'m','p'],[],\"Wick\",True,[],3,4,5,2,2,\"John\"]\n",
    "list2.count(\"John\")\n",
    "list2.count(2)"
   ]
  }
 ],
 "metadata": {
  "kernelspec": {
   "display_name": "Python 3",
   "language": "python",
   "name": "python3"
  },
  "language_info": {
   "codemirror_mode": {
    "name": "ipython",
    "version": 3
   },
   "file_extension": ".py",
   "mimetype": "text/x-python",
   "name": "python",
   "nbconvert_exporter": "python",
   "pygments_lexer": "ipython3",
   "version": "3.8.3"
  }
 },
 "nbformat": 4,
 "nbformat_minor": 4
}
