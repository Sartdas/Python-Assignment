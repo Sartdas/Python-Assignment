{
 "cells": [
  {
   "cell_type": "markdown",
   "metadata": {},
   "source": [
    "# Python Baisc Assignment -1"
   ]
  },
  {
   "cell_type": "markdown",
   "metadata": {},
   "source": [
    "#####  <font color=darkblue>1. In the below elements which of them are values or an expression? eg:- values can be integer or string and expressions will be mathematical operators.</font>\n",
    "\n",
    "- $*$  --> Arithmetic Expression\n",
    "- 'hello' --> String\n",
    "- -87.8 --> Float\n",
    "- $-$ -->Arithmetic Expression \n",
    "- / -->Arithmetic Expression \n",
    "- $+$\t-->Arithmetic Expression \n",
    "- 6 --> Integer__"
   ]
  },
  {
   "cell_type": "markdown",
   "metadata": {},
   "source": [
    "#### <font color=darkblue>2. What is the difference between string and variable?</font>"
   ]
  },
  {
   "cell_type": "markdown",
   "metadata": {},
   "source": [
    "Strings-  are values assigned to a Variable. e.g. \"String\" this is a value and can be used for string operations \n",
    "\n",
    "Variables - are names used to store values. Variables can hold different types of values such as String, Integer, floating etc.\n",
    "            Variables acquires a memory location once the allocation happens"
   ]
  },
  {
   "cell_type": "markdown",
   "metadata": {},
   "source": [
    "#### <font color=darkblue>3. Describe three different data types.</font>"
   ]
  },
  {
   "cell_type": "markdown",
   "metadata": {},
   "source": [
    "1. Integer --> indicates Integer type values such as 1, -1, 0, 10,100 . type of the the data type is __int__\n",
    "2. Float --> indicates Floating type values such as 1.0, 10.0, -2.5. 100.9 etc. type of the data type is __float__\n",
    "3. String --> indicates string type value such as \"string\" or 'string' . type of the data type is __str__"
   ]
  },
  {
   "cell_type": "markdown",
   "metadata": {},
   "source": [
    "#### <font color=darkblue> 4. What is an expression made up of? What do all expressions do?</font>"
   ]
  },
  {
   "cell_type": "markdown",
   "metadata": {},
   "source": [
    "An expression is a combination of values, variables, operators, and calls to functions. Expressions need to be evaluated. If you ask Python to print an expression, the interpreter evaluates the expression and displays the result."
   ]
  },
  {
   "cell_type": "markdown",
   "metadata": {},
   "source": [
    "#### <font color=darkblue> 5. This assignment statements, like spam = 10. What is the difference between an expression and a statement?</font>"
   ]
  },
  {
   "cell_type": "markdown",
   "metadata": {},
   "source": [
    "An expression provides a value or output whereas a statement does something. Astatement respresnet an action or command \n",
    "\n",
    "examples of expression \n",
    "\n",
    "- 2+2\n",
    "- 3*7\n",
    "- \"foo\" + \"bar\" \n",
    "\n",
    "examples of statement\n",
    "\n",
    "- if CONDITION: \n",
    "- elif CONDITION: \n",
    "- else: \n",
    "- for VARIABLE in SEQUENCE: \n",
    "- while CONDITION: "
   ]
  },
  {
   "cell_type": "markdown",
   "metadata": {},
   "source": [
    "#### <font color=darkblue> 6. After running the following code, what does the variable bacon contain?</font>\n",
    "#### <font color=darkblue>bacon = 22</font>\n",
    "#### <font color=darkblue>bacon + 1</font>\n"
   ]
  },
  {
   "cell_type": "markdown",
   "metadata": {},
   "source": [
    "Bacon contains 22. Even after adding '1' to bacon it is not assigned or stored back to bacon hence bacon still contains its previous value which is 22"
   ]
  },
  {
   "cell_type": "markdown",
   "metadata": {},
   "source": [
    "#### <font color=darkblue>7. What should the values of the following two terms be?</font>\n",
    "#### <font color=darkblue>'spam' + 'spamspam'</font>\n",
    "#### <font color=darkblue>'spam' * 3 </font>\n"
   ]
  },
  {
   "cell_type": "markdown",
   "metadata": {},
   "source": [
    "value of the both the expression will be same i.e. 'spamspamspam'"
   ]
  },
  {
   "cell_type": "markdown",
   "metadata": {},
   "source": [
    "#### <font color=darkblue>8. Why is eggs a valid variable name while 100 is invalid?</font>"
   ]
  },
  {
   "cell_type": "markdown",
   "metadata": {},
   "source": [
    "In Python Variable names should start with a letter or underscore and not with a number. hence egg is a valid variable whereas 100 is invalid"
   ]
  },
  {
   "cell_type": "markdown",
   "metadata": {},
   "source": [
    "#### <font color=darkblue>9. What three functions can be used to get the integer, floating-point number, or string version of a value?</font>"
   ]
  },
  {
   "cell_type": "markdown",
   "metadata": {},
   "source": [
    "- int() --> to get integer\n",
    "- float() --> to get floating point\n",
    "- str() --> to get string"
   ]
  },
  {
   "cell_type": "markdown",
   "metadata": {},
   "source": [
    "#### <font color=darkblue>10. Why does this expression cause an error? How can you fix it?</font>\n",
    "#### <font color=darkblue>'I have eaten ' + 99 + ' burritos.'</font>\n"
   ]
  },
  {
   "cell_type": "markdown",
   "metadata": {},
   "source": [
    "concatenation of string and interger datatypes is not possible hence the error. it can be fixed by changing the type of 99 to string:-\n",
    "\n",
    "- 'I have eaten ' + '99' + ' burritos.'\n",
    "- 'I have eaten ' + str(99) + ' burritos.'"
   ]
  }
 ],
 "metadata": {
  "kernelspec": {
   "display_name": "Python 3",
   "language": "python",
   "name": "python3"
  },
  "language_info": {
   "codemirror_mode": {
    "name": "ipython",
    "version": 3
   },
   "file_extension": ".py",
   "mimetype": "text/x-python",
   "name": "python",
   "nbconvert_exporter": "python",
   "pygments_lexer": "ipython3",
   "version": "3.8.3"
  }
 },
 "nbformat": 4,
 "nbformat_minor": 4
}
