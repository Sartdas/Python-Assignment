{
 "cells": [
  {
   "cell_type": "markdown",
   "metadata": {},
   "source": [
    "# Python Programming Basic Assignment -3"
   ]
  },
  {
   "cell_type": "markdown",
   "metadata": {},
   "source": [
    "#### 1.\tWrite a Python Program to Check if a Number is Positive, Negative or Zero?"
   ]
  },
  {
   "cell_type": "code",
   "execution_count": 3,
   "metadata": {},
   "outputs": [
    {
     "name": "stdout",
     "output_type": "stream",
     "text": [
      "Enter a number:0\n",
      "number is equal to Zero\n"
     ]
    }
   ],
   "source": [
    "number =int(input(\"Enter a number:\"))\n",
    "\n",
    "if number == 0:\n",
    "    print(\"number is equal to Zero\")\n",
    "elif number > 0:\n",
    "    print(\"number is Positive\")\n",
    "else:\n",
    "    print(\"number is negative\")"
   ]
  },
  {
   "cell_type": "markdown",
   "metadata": {},
   "source": [
    "#### 2.\tWrite a Python Program to Check if a Number is Odd or Even?"
   ]
  },
  {
   "cell_type": "code",
   "execution_count": 5,
   "metadata": {},
   "outputs": [
    {
     "name": "stdout",
     "output_type": "stream",
     "text": [
      "Enter a number:23\n",
      "The number is odd\n"
     ]
    }
   ],
   "source": [
    "number =int(input(\"Enter a number:\"))\n",
    "\n",
    "if number%2 == 0:\n",
    "    print(\"The number is even\")\n",
    "else:\n",
    "    print(\"The number is odd\")"
   ]
  },
  {
   "cell_type": "markdown",
   "metadata": {},
   "source": [
    "#### 3.\tWrite a Python Program to Check Leap Year?"
   ]
  },
  {
   "cell_type": "code",
   "execution_count": 12,
   "metadata": {},
   "outputs": [
    {
     "name": "stdout",
     "output_type": "stream",
     "text": [
      "enter the year:2024\n",
      "The year 2024 is a leap year\n"
     ]
    }
   ],
   "source": [
    "import calendar\n",
    "year = int(input(\"enter the year:\"))\n",
    "\n",
    "if calendar.isleap(year) == True:\n",
    "    print (\"The year {} is a leap year\".format(year))\n",
    "else:\n",
    "    print (\"The year {} is not a leap year\".format(year))"
   ]
  },
  {
   "cell_type": "markdown",
   "metadata": {},
   "source": [
    "#### 4.\tWrite a Python Program to Check Prime Number?"
   ]
  },
  {
   "cell_type": "code",
   "execution_count": 19,
   "metadata": {},
   "outputs": [
    {
     "name": "stdout",
     "output_type": "stream",
     "text": [
      "Enter a number:43\n",
      "the number 43  is a prime number\n"
     ]
    }
   ],
   "source": [
    "number =int(input(\"Enter a number:\"))\n",
    "\n",
    "i = 1\n",
    "count =0\n",
    "\n",
    "while i <= number:\n",
    "    if number%i == 0:\n",
    "        count = count + 1\n",
    "    i +=1\n",
    "\n",
    "if count > 2:\n",
    "    print(\"the number {} is not a prime number\".format(number))\n",
    "else:\n",
    "    print(\"the number {}  is a prime number\".format(number))"
   ]
  },
  {
   "cell_type": "markdown",
   "metadata": {},
   "source": [
    "#### 5.\tWrite a Python Program to Print all Prime Numbers in an Interval of 1-10000"
   ]
  },
  {
   "cell_type": "code",
   "execution_count": null,
   "metadata": {},
   "outputs": [],
   "source": [
    "for num in range(1,10000):\n",
    "    count =0\n",
    "    i = 1\n",
    "    while i <= num:\n",
    "        if num%i==0:\n",
    "            count += 1\n",
    "        i +=1\n",
    "    if count <= 2:\n",
    "        print (\"{} is a prime number\".format(num))"
   ]
  }
 ],
 "metadata": {
  "kernelspec": {
   "display_name": "Python 3",
   "language": "python",
   "name": "python3"
  },
  "language_info": {
   "codemirror_mode": {
    "name": "ipython",
    "version": 3
   },
   "file_extension": ".py",
   "mimetype": "text/x-python",
   "name": "python",
   "nbconvert_exporter": "python",
   "pygments_lexer": "ipython3",
   "version": "3.8.3"
  }
 },
 "nbformat": 4,
 "nbformat_minor": 4
}
