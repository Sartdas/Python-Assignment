{
 "cells": [
  {
   "cell_type": "markdown",
   "metadata": {},
   "source": [
    "# Python Programming Basic Assignment -5"
   ]
  },
  {
   "cell_type": "markdown",
   "metadata": {},
   "source": [
    "#### 1.\tWrite a Python Program to Find LCM?"
   ]
  },
  {
   "cell_type": "code",
   "execution_count": 5,
   "metadata": {},
   "outputs": [
    {
     "data": {
      "text/plain": [
       "216"
      ]
     },
     "execution_count": 5,
     "metadata": {},
     "output_type": "execute_result"
    }
   ],
   "source": [
    "import math\n",
    "\n",
    "def lcm(a,b):\n",
    "    return int((a*b)/math.gcd(a,b))\n",
    "\n",
    "lcm(54,24)"
   ]
  },
  {
   "cell_type": "markdown",
   "metadata": {},
   "source": [
    "#### 2.\tWrite a Python Program to Find HCF?"
   ]
  },
  {
   "cell_type": "code",
   "execution_count": 11,
   "metadata": {},
   "outputs": [
    {
     "data": {
      "text/plain": [
       "6"
      ]
     },
     "execution_count": 11,
     "metadata": {},
     "output_type": "execute_result"
    }
   ],
   "source": [
    "def compute_hcf(x, y):\n",
    "    while(y):\n",
    "        \n",
    "        x, y = y, x % y\n",
    "    return x\n",
    "\n",
    "compute_hcf(54,24)"
   ]
  },
  {
   "cell_type": "markdown",
   "metadata": {},
   "source": [
    "#### 3.\tWrite a Python Program to Convert Decimal to Binary, Octal and Hexadecimal?"
   ]
  },
  {
   "cell_type": "code",
   "execution_count": 12,
   "metadata": {},
   "outputs": [
    {
     "name": "stdout",
     "output_type": "stream",
     "text": [
      "Enter a number:10\n",
      "Binary of the number 10 is 0b1010\n",
      "Octal of the number 10 is 0o12\n",
      "Hexadecimal of the number 10 is 0xa\n"
     ]
    }
   ],
   "source": [
    "number = int(input(\"Enter a number:\"))\n",
    "\n",
    "print(\"Binary of the number {} is {}\".format(number,bin(number)))\n",
    "print(\"Octal of the number {} is {}\".format(number,oct(number)))\n",
    "print(\"Hexadecimal of the number {} is {}\".format(number,hex(number)))"
   ]
  },
  {
   "cell_type": "markdown",
   "metadata": {},
   "source": [
    "#### 4.\tWrite a Python Program To Find ASCII value of a character?"
   ]
  },
  {
   "cell_type": "code",
   "execution_count": 13,
   "metadata": {},
   "outputs": [
    {
     "name": "stdout",
     "output_type": "stream",
     "text": [
      "Enter a character:a\n",
      "ASCII value of the character a is 97\n"
     ]
    }
   ],
   "source": [
    "character = input(\"Enter a character:\")\n",
    "\n",
    "print(\"ASCII value of the character {} is {}\".format(character, ord(character)))"
   ]
  },
  {
   "cell_type": "markdown",
   "metadata": {},
   "source": [
    "#### 5.\tWrite a Python Program to Make a Simple Calculator with 4 basic mathematical operations?"
   ]
  },
  {
   "cell_type": "code",
   "execution_count": 19,
   "metadata": {},
   "outputs": [
    {
     "name": "stdout",
     "output_type": "stream",
     "text": [
      "Enter one of the option 1.ADD, 2.SUBTRACT, 3.MULTIPY, 4.DIVIDE:ADD\n",
      "enter the 1st number1\n",
      "enter the 2nd number2\n",
      "Sum of the number 1 and 2 is 3\n"
     ]
    }
   ],
   "source": [
    "option = input(\"Enter one of the option 1.ADD, 2.SUBTRACT, 3.MULTIPY, 4.DIVIDE:\")\n",
    "a=int(input(\"enter the 1st number\"))\n",
    "b=int(input(\"enter the 2nd number\"))\n",
    "\n",
    "if option.upper() == \"ADD\":\n",
    "    print (\"Sum of the number {} and {} is {}\".format(a,b,a+b))\n",
    "elif option.upper() == \"SUBTRACT\":\n",
    "    print (\"Subraction of the number {} and {} is {}\".format(a,b,a-b))\n",
    "elif option.upper() == \"MULTIPLY\":\n",
    "    print (\"Multiplication of the number {} and {} is {}\".format(a,b,a*b))\n",
    "elif option.upper() == \"DIVIDE\":\n",
    "    print (\"Division of the number {} and {} is {}\".format(a,b,a/b))\n",
    "else:\n",
    "    print (\"Incorrect option entered\")"
   ]
  },
  {
   "cell_type": "code",
   "execution_count": null,
   "metadata": {},
   "outputs": [],
   "source": []
  }
 ],
 "metadata": {
  "kernelspec": {
   "display_name": "Python 3",
   "language": "python",
   "name": "python3"
  },
  "language_info": {
   "codemirror_mode": {
    "name": "ipython",
    "version": 3
   },
   "file_extension": ".py",
   "mimetype": "text/x-python",
   "name": "python",
   "nbconvert_exporter": "python",
   "pygments_lexer": "ipython3",
   "version": "3.8.3"
  }
 },
 "nbformat": 4,
 "nbformat_minor": 4
}
