{
 "cells": [
  {
   "cell_type": "markdown",
   "metadata": {},
   "source": [
    "# Python Programming Basic Assignment -9"
   ]
  },
  {
   "cell_type": "markdown",
   "metadata": {},
   "source": [
    "#### 1.\tWrite a Python program to check if the given number is a Disarium Number?"
   ]
  },
  {
   "cell_type": "code",
   "execution_count": 1,
   "metadata": {},
   "outputs": [
    {
     "name": "stdout",
     "output_type": "stream",
     "text": [
      "Enter the number for disarium check:175\n",
      "The number 175 is a Disarium number\n"
     ]
    }
   ],
   "source": [
    "## A Disarium number is a number defined by the following process: Sum of its digits powered with their respective position is equal to the original number. \n",
    "## Some other DISARIUM are 89, 175, 518 etc\n",
    "\n",
    "number=int(input(\"Enter the number for disarium check:\"))\n",
    "\n",
    "interim_number =number\n",
    "length_number ,remainder, sum_of_digits = 0,0,0\n",
    "\n",
    "length_number = len(str(number))\n",
    "\n",
    "while interim_number != 0:\n",
    "    remainder = interim_number % 10\n",
    "    interim_number = int(interim_number/10)\n",
    "    sum_of_digits = sum_of_digits + remainder**length_number\n",
    "    length_number = len(str(interim_number))\n",
    "\n",
    "if sum_of_digits == number:\n",
    "    print(\"The number {} is a Disarium number\".format(number))\n",
    "else:\n",
    "    print(\"The number {} is not a Disarium number\".format(number))"
   ]
  },
  {
   "cell_type": "markdown",
   "metadata": {},
   "source": [
    "#### 2.\tWrite a Python program to print all disarium numbers between 1 to 100?"
   ]
  },
  {
   "cell_type": "code",
   "execution_count": 18,
   "metadata": {},
   "outputs": [
    {
     "name": "stdout",
     "output_type": "stream",
     "text": [
      "The number 1 is a Disarium number\n",
      "The number 2 is a Disarium number\n",
      "The number 3 is a Disarium number\n",
      "The number 4 is a Disarium number\n",
      "The number 5 is a Disarium number\n",
      "The number 6 is a Disarium number\n",
      "The number 7 is a Disarium number\n",
      "The number 8 is a Disarium number\n",
      "The number 9 is a Disarium number\n",
      "The number 89 is a Disarium number\n"
     ]
    }
   ],
   "source": [
    "for i in range(1,101):\n",
    "    interim_number =i\n",
    "    length_number ,remainder, sum_of_digits = 0,0,0\n",
    "\n",
    "    length_number = len(str(i))\n",
    "\n",
    "    while interim_number != 0:\n",
    "        remainder = interim_number % 10\n",
    "        interim_number = int(interim_number/10)\n",
    "        sum_of_digits = sum_of_digits + remainder**length_number\n",
    "        length_number = len(str(interim_number))\n",
    "\n",
    "    if sum_of_digits == i:\n",
    "        print(\"The number {} is a Disarium number\".format(i))"
   ]
  },
  {
   "cell_type": "markdown",
   "metadata": {},
   "source": [
    "#### 3.\tWrite a Python program to check if the given number is Happy Number?"
   ]
  },
  {
   "cell_type": "code",
   "execution_count": 36,
   "metadata": {},
   "outputs": [
    {
     "name": "stdout",
     "output_type": "stream",
     "text": [
      "Enter the number for happy number check:20\n",
      " The number 20 is not a Happy number\n"
     ]
    }
   ],
   "source": [
    "### A number is called happy if it leads to 1 after a sequence of steps wherein each step number is replaced by the \n",
    "### sum of squares of its digit that is if we start with Happy Number and keep replacing it with digits square sum, \n",
    "### we reach 1. \n",
    "\n",
    "number=int(input(\"Enter the number for happy number check:\"))\n",
    "print_number =number\n",
    "sum_of_digits = 0\n",
    "\n",
    "num_list_chk = []\n",
    "num_list_chk.append(number)\n",
    "\n",
    "while sum_of_digits != 1:\n",
    "    num_to_string = str(number)\n",
    "    sum_of_digits = 0\n",
    "    for i in range(len(num_to_string)):\n",
    "        sum_of_digits = sum_of_digits + int(num_to_string[i])**2\n",
    "       \n",
    "    number = sum_of_digits\n",
    "### checking if the sum of square of the digits is present in the list i.e. the number has entered a loop and will not\n",
    "## be a happy number\n",
    "    if number in num_list_chk:\n",
    "        print(\" The number {} is not a Happy number\".format(print_number))\n",
    "        break\n",
    "    else:\n",
    "        num_list_chk.append(sum_of_digits)\n",
    "else:\n",
    "    print(\" The number {} is a Happy number\".format(print_number))   "
   ]
  },
  {
   "cell_type": "markdown",
   "metadata": {},
   "source": [
    "#### 4.\tWrite a Python program to print all happy numbers between 1 and 100?"
   ]
  },
  {
   "cell_type": "code",
   "execution_count": 46,
   "metadata": {},
   "outputs": [
    {
     "name": "stdout",
     "output_type": "stream",
     "text": [
      " The number 7 is a Happy number\n",
      " The number 10 is a Happy number\n",
      " The number 13 is a Happy number\n",
      " The number 19 is a Happy number\n",
      " The number 23 is a Happy number\n",
      " The number 28 is a Happy number\n",
      " The number 31 is a Happy number\n",
      " The number 32 is a Happy number\n",
      " The number 44 is a Happy number\n",
      " The number 49 is a Happy number\n",
      " The number 68 is a Happy number\n",
      " The number 70 is a Happy number\n",
      " The number 79 is a Happy number\n",
      " The number 82 is a Happy number\n",
      " The number 86 is a Happy number\n",
      " The number 91 is a Happy number\n",
      " The number 94 is a Happy number\n",
      " The number 97 is a Happy number\n",
      " The number 100 is a Happy number\n"
     ]
    }
   ],
   "source": [
    "for k in range (1,101):\n",
    "    interim_number =k\n",
    "    sum_of_digits = 0\n",
    "\n",
    "    num_list_chk = []\n",
    "    num_list_chk.append(k)\n",
    "\n",
    "    while sum_of_digits != 1:\n",
    "        num_to_string = str(interim_number)\n",
    "        sum_of_digits = 0\n",
    "        for i in range(len(num_to_string)):\n",
    "            sum_of_digits = sum_of_digits + int(num_to_string[i])**2\n",
    "\n",
    "        interim_number = sum_of_digits\n",
    "### checking if the sum of square of the digits is present in the list i.e. the number has entered a loop and will not\n",
    "## be a happy number\n",
    "        if interim_number in num_list_chk:\n",
    "#            print(\" The number {} is not a Happy number\".format(k))\n",
    "            break\n",
    "        else:\n",
    "            num_list_chk.append(sum_of_digits)\n",
    "    else:\n",
    "        print(\" The number {} is a Happy number\".format(k))      "
   ]
  },
  {
   "cell_type": "markdown",
   "metadata": {},
   "source": [
    "#### 5.\tWrite a Python program to determine whether the given number is a Harshad Number?"
   ]
  },
  {
   "cell_type": "code",
   "execution_count": 50,
   "metadata": {},
   "outputs": [
    {
     "name": "stdout",
     "output_type": "stream",
     "text": [
      "Enter the number for harshad number check:353\n",
      "The number 353 is not a harshad number\n"
     ]
    }
   ],
   "source": [
    "### a harshad number (or Niven number) in a given number base is an integer \n",
    "##  that is divisible by the sum of its digits when written in that base\n",
    "\n",
    "number=int(input(\"Enter the number for harshad number check:\"))\n",
    "\n",
    "nbr_to_str = str(number)\n",
    "sum_of_digits = 0\n",
    "for i in range(len(nbr_to_str)):\n",
    "    sum_of_digits += i\n",
    "\n",
    "if number%sum_of_digits == 0:\n",
    "    print(\"The number {} is a harshad number\".format(number))\n",
    "else:\n",
    "    print(\"The number {} is not a harshad number\".format(number))"
   ]
  },
  {
   "cell_type": "markdown",
   "metadata": {},
   "source": [
    "#### 6.\tWrite a Python program to print all pronic numbers between 1 and 100?"
   ]
  },
  {
   "cell_type": "code",
   "execution_count": 53,
   "metadata": {},
   "outputs": [
    {
     "name": "stdout",
     "output_type": "stream",
     "text": [
      "The pronic numbers are: 0\n",
      "The pronic numbers are: 2\n",
      "The pronic numbers are: 6\n",
      "The pronic numbers are: 12\n",
      "The pronic numbers are: 20\n",
      "The pronic numbers are: 30\n",
      "The pronic numbers are: 42\n",
      "The pronic numbers are: 56\n",
      "The pronic numbers are: 72\n",
      "The pronic numbers are: 90\n"
     ]
    }
   ],
   "source": [
    "#### A pronic number is a number which is the product of two consecutive integers, that is, a number of the form n(n + 1)\n",
    "for i in range(10):\n",
    "    print(\"The pronic numbers are:\",(i*(i+1)))"
   ]
  },
  {
   "cell_type": "markdown",
   "metadata": {},
   "source": []
  },
  {
   "cell_type": "code",
   "execution_count": null,
   "metadata": {},
   "outputs": [],
   "source": []
  }
 ],
 "metadata": {
  "kernelspec": {
   "display_name": "Python 3",
   "language": "python",
   "name": "python3"
  },
  "language_info": {
   "codemirror_mode": {
    "name": "ipython",
    "version": 3
   },
   "file_extension": ".py",
   "mimetype": "text/x-python",
   "name": "python",
   "nbconvert_exporter": "python",
   "pygments_lexer": "ipython3",
   "version": "3.8.3"
  }
 },
 "nbformat": 4,
 "nbformat_minor": 4
}
